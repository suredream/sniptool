{
 "cells": [
  {
   "cell_type": "code",
   "execution_count": 2,
   "id": "6cdba0db",
   "metadata": {
    "hide_input": false
   },
   "outputs": [],
   "source": [
    "#hide\n",
    "#default_exp ver\n",
    "#default_cls_lvl 3\n",
    "from nbdev.showdoc import show_doc"
   ]
  },
  {
   "cell_type": "code",
   "execution_count": 4,
   "id": "17dbdee1",
   "metadata": {
    "hide_input": false
   },
   "outputs": [],
   "source": [
    "#export\n",
    "from nbdev.imports import *"
   ]
  },
  {
   "cell_type": "markdown",
   "id": "1f9f605c",
   "metadata": {},
   "source": [
    "# Version Control\n",
    "> How to manage snippets (json version)"
   ]
  },
  {
   "cell_type": "code",
   "execution_count": 1,
   "id": "709323d0",
   "metadata": {},
   "outputs": [],
   "source": [
    "# exporti\n",
    "from IPython.core.magic import Magics, magics_class, line_magic, cell_magic\n",
    "import os\n",
    "\n",
    "@magics_class\n",
    "class VControlMagics(Magics):\n",
    "    @line_magic\n",
    "    def g(self, parameter_s: str):\n",
    "        opts, argsl = self.parse_options(parameter_s, \"drz\", mode=\"string\")\n",
    "        args = argsl.split()\n",
    "        if not args:\n",
    "            os.system(\"git status\")\n",
    "        else:\n",
    "            cmd, opts = args[0], \" \".join(args[1:])\n",
    "            assert os.path.isfile(\"ghconfig\")\n",
    "            cred = yaml.load(open(\"ghconfig\"), Loader=yaml.BaseLoader)\n",
    "            url = f'{cred[\"token\"]}@{cred[\"repo\"].replace(\"https://\",\"\")}'\n",
    "            if cmd == \"get\":\n",
    "                pass\n",
    "            elif cmd == \"push\":\n",
    "                os.system(f\"git push {url} {opts}\")\n",
    "            elif cmd == \"pull\":\n",
    "                os.system(f\"git pull {url} {opts}\")\n",
    "            elif cmd == \"loc\":\n",
    "                print(cred[\"repo\"])\n",
    "            elif cmd == \"save\":\n",
    "                if not opts:\n",
    "                    opts = \"update\"\n",
    "                os.system(f'git add -u && git commit -m \"{opts}\"')\n",
    "            else:\n",
    "                os.system(f\"git {cmd} {opts}\")"
   ]
  },
  {
   "cell_type": "code",
   "execution_count": 2,
   "id": "7aa92210",
   "metadata": {},
   "outputs": [],
   "source": [
    "def load_ipython_extension(ipython):\n",
    "    ipython.register_magics(VControlMagics)"
   ]
  },
  {
   "cell_type": "code",
   "execution_count": 7,
   "id": "aab14a3d",
   "metadata": {},
   "outputs": [
    {
     "name": "stdout",
     "output_type": "stream",
     "text": [
      "Converted 03_ver.ipynb.\n"
     ]
    }
   ],
   "source": [
    "!nbdev_build_lib --fname 03_ver.ipynb"
   ]
  },
  {
   "cell_type": "code",
   "execution_count": 11,
   "id": "160a8c0e",
   "metadata": {},
   "outputs": [
    {
     "name": "stdout",
     "output_type": "stream",
     "text": [
      "The autoreload extension is already loaded. To reload it, use:\n",
      "  %reload_ext autoreload\n"
     ]
    }
   ],
   "source": [
    "%load_ext autoreload\n",
    "%autoreload 2"
   ]
  },
  {
   "cell_type": "code",
   "execution_count": 1,
   "id": "2d56c90a",
   "metadata": {},
   "outputs": [],
   "source": [
    "%reload_ext sniptool"
   ]
  },
  {
   "cell_type": "code",
   "execution_count": 4,
   "id": "294ddc67",
   "metadata": {},
   "outputs": [
    {
     "name": "stdout",
     "output_type": "stream",
     "text": [
      "[master 770a10e] update\n",
      " 18 files changed, 1340 insertions(+), 526 deletions(-)\n",
      " create mode 100644 01_viz.ipynb\n",
      " create mode 100644 02_snip.ipynb\n",
      " create mode 100644 03_ver.ipynb\n",
      " delete mode 100644 SnippetDB.db\n",
      " delete mode 100644 SnippetDB1.db\n",
      " create mode 100644 img/test.png\n",
      " create mode 100644 img/test1.png\n",
      " create mode 100644 last.txt\n",
      " create mode 100644 snip.json\n",
      " delete mode 100644 sniptool/core-Copy1.py\n",
      " create mode 100644 sniptool/snip.py\n",
      " create mode 100644 sniptool/ver.py\n",
      " create mode 100644 sniptool/viz.py\n"
     ]
    }
   ],
   "source": [
    "%g add .\n",
    "%g save"
   ]
  },
  {
   "cell_type": "code",
   "execution_count": 3,
   "id": "971f036f",
   "metadata": {},
   "outputs": [],
   "source": [
    "!rm .ipynb.snapshot"
   ]
  },
  {
   "cell_type": "code",
   "execution_count": null,
   "id": "0ed6aeeb",
   "metadata": {},
   "outputs": [],
   "source": []
  }
 ],
 "metadata": {
  "kernelspec": {
   "display_name": "Python 3 (ipykernel)",
   "language": "python",
   "name": "python3"
  },
  "language_info": {
   "codemirror_mode": {
    "name": "ipython",
    "version": 3
   },
   "file_extension": ".py",
   "mimetype": "text/x-python",
   "name": "python",
   "nbconvert_exporter": "python",
   "pygments_lexer": "ipython3",
   "version": "3.7.12"
  }
 },
 "nbformat": 4,
 "nbformat_minor": 5
}
