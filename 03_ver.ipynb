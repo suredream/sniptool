{
 "cells": [
  {
   "cell_type": "code",
   "execution_count": 2,
   "id": "05e6b705",
   "metadata": {
    "hide_input": false
   },
   "outputs": [],
   "source": [
    "#hide\n",
    "#default_exp ver\n",
    "#default_cls_lvl 3\n",
    "from nbdev.showdoc import show_doc"
   ]
  },
  {
   "cell_type": "code",
   "execution_count": 4,
   "id": "442de64b",
   "metadata": {
    "hide_input": false
   },
   "outputs": [],
   "source": [
    "#export\n",
    "from nbdev.imports import *"
   ]
  },
  {
   "cell_type": "markdown",
   "id": "69ba5496",
   "metadata": {},
   "source": [
    "# Version Control\n",
    "> How to manage snippets (json version)"
   ]
  },
  {
   "cell_type": "code",
   "execution_count": 1,
   "id": "dbd5fec2",
   "metadata": {},
   "outputs": [],
   "source": [
    "# exporti\n",
    "from IPython.core.magic import Magics, magics_class, line_magic, cell_magic\n",
    "import os\n",
    "\n",
    "@magics_class\n",
    "class VControlMagics(Magics):\n",
    "    @line_magic\n",
    "    def g(self, parameter_s: str):\n",
    "        opts, argsl = self.parse_options(parameter_s, \"drz\", mode=\"string\")\n",
    "        args = argsl.split()\n",
    "        if not args:\n",
    "            os.system(\"git status\")\n",
    "        else:\n",
    "            cmd, opts = args[0], \" \".join(args[1:])\n",
    "            assert os.path.isfile(\"ghconfig\")\n",
    "            cred = yaml.load(open(\"ghconfig\"), Loader=yaml.BaseLoader)\n",
    "            url = f'{cred[\"token\"]}@{cred[\"repo\"].replace(\"https://\",\"\")}'\n",
    "            if cmd == \"get\":\n",
    "                pass\n",
    "            elif cmd == \"push\":\n",
    "                os.system(f\"git push {url} {opts}\")\n",
    "            elif cmd == \"pull\":\n",
    "                os.system(f\"git pull {url} {opts}\")\n",
    "            elif cmd == \"loc\":\n",
    "                print(cred[\"repo\"])\n",
    "            elif cmd == \"save\":\n",
    "                if not opts:\n",
    "                    opts = \"update\"\n",
    "                os.system(f'git add -u && git commit -m \"{opts}\"')\n",
    "            else:\n",
    "                os.system(f\"git {cmd} {opts}\")"
   ]
  },
  {
   "cell_type": "code",
   "execution_count": 2,
   "id": "2253ae4e",
   "metadata": {},
   "outputs": [],
   "source": [
    "def load_ipython_extension(ipython):\n",
    "    ipython.register_magics(VControlMagics)"
   ]
  },
  {
   "cell_type": "code",
   "execution_count": 7,
   "id": "6bc221d4",
   "metadata": {},
   "outputs": [
    {
     "name": "stdout",
     "output_type": "stream",
     "text": [
      "Converted 03_ver.ipynb.\n"
     ]
    }
   ],
   "source": [
    "!nbdev_build_lib --fname 03_ver.ipynb"
   ]
  },
  {
   "cell_type": "code",
   "execution_count": 11,
   "id": "7f3238d3",
   "metadata": {},
   "outputs": [
    {
     "name": "stdout",
     "output_type": "stream",
     "text": [
      "The autoreload extension is already loaded. To reload it, use:\n",
      "  %reload_ext autoreload\n"
     ]
    }
   ],
   "source": [
    "%load_ext autoreload\n",
    "%autoreload 2"
   ]
  },
  {
   "cell_type": "code",
   "execution_count": 1,
   "id": "163677cf",
   "metadata": {},
   "outputs": [],
   "source": [
    "%reload_ext sniptool"
   ]
  },
  {
   "cell_type": "code",
   "execution_count": 2,
   "id": "3ee6ca6a",
   "metadata": {},
   "outputs": [
    {
     "name": "stdout",
     "output_type": "stream",
     "text": [
      "On branch master\n",
      "Your branch is up to date with 'origin/master'.\n",
      "\n",
      "Changes not staged for commit:\n",
      "  (use \"git add/rm <file>...\" to update what will be committed)\n",
      "  (use \"git restore <file>...\" to discard changes in working directory)\n",
      "\tmodified:   00_core.ipynb\n",
      "\tdeleted:    SnippetDB.db\n",
      "\tdeleted:    SnippetDB1.db\n",
      "\tmodified:   settings.ini\n",
      "\tmodified:   sniptool/__init__.py\n",
      "\tmodified:   sniptool/_nbdev.py\n",
      "\tdeleted:    sniptool/core-Copy1.py\n",
      "\tmodified:   sniptool/core.py\n",
      "\n",
      "Untracked files:\n",
      "  (use \"git add <file>...\" to include in what will be committed)\n",
      "\t.ipynb.snapshot\n",
      "\t01_viz.ipynb\n",
      "\t02_snip.ipynb\n",
      "\t03_ver.ipynb\n",
      "\timg/\n",
      "\tlast.txt\n",
      "\tsnip.json\n",
      "\tsniptool/snip.py\n",
      "\tsniptool/ver.py\n",
      "\tsniptool/viz.py\n",
      "\n",
      "no changes added to commit (use \"git add\" and/or \"git commit -a\")\n"
     ]
    }
   ],
   "source": [
    "%g "
   ]
  },
  {
   "cell_type": "code",
   "execution_count": 3,
   "id": "1f874457",
   "metadata": {},
   "outputs": [],
   "source": [
    "!rm .ipynb.snapshot"
   ]
  },
  {
   "cell_type": "code",
   "execution_count": null,
   "id": "3b0c5360",
   "metadata": {},
   "outputs": [],
   "source": []
  }
 ],
 "metadata": {
  "kernelspec": {
   "display_name": "Python 3 (ipykernel)",
   "language": "python",
   "name": "python3"
  },
  "language_info": {
   "codemirror_mode": {
    "name": "ipython",
    "version": 3
   },
   "file_extension": ".py",
   "mimetype": "text/x-python",
   "name": "python",
   "nbconvert_exporter": "python",
   "pygments_lexer": "ipython3",
   "version": "3.7.12"
  }
 },
 "nbformat": 4,
 "nbformat_minor": 5
}
