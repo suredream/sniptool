{
 "cells": [
  {
   "cell_type": "code",
   "execution_count": 2,
   "id": "ff7bc9c8",
   "metadata": {
    "hide_input": false
   },
   "outputs": [],
   "source": [
    "#hide\n",
    "#default_exp ver\n",
    "#default_cls_lvl 3\n",
    "from nbdev.showdoc import show_doc"
   ]
  },
  {
   "cell_type": "code",
   "execution_count": 4,
   "id": "2cb054fa",
   "metadata": {
    "hide_input": false
   },
   "outputs": [],
   "source": [
    "#export\n",
    "from nbdev.imports import *"
   ]
  },
  {
   "cell_type": "markdown",
   "id": "b5cf0144",
   "metadata": {},
   "source": [
    "# Version Control\n",
    "> How to manage snippets (json version)"
   ]
  },
  {
   "cell_type": "code",
   "execution_count": 1,
   "id": "84be14fc",
   "metadata": {},
   "outputs": [],
   "source": [
    "# exporti\n",
    "from IPython.core.magic import Magics, magics_class, line_magic, cell_magic\n",
    "import os\n",
    "\n",
    "@magics_class\n",
    "class VControlMagics(Magics):\n",
    "    @line_magic\n",
    "    def g(self, parameter_s: str):\n",
    "        opts, argsl = self.parse_options(parameter_s, \"drz\", mode=\"string\")\n",
    "        args = argsl.split()\n",
    "        if not args:\n",
    "            os.system(\"git status\")\n",
    "        else:\n",
    "            cmd, opts = args[0], \" \".join(args[1:])\n",
    "            assert os.path.isfile(\"ghconfig\")\n",
    "            cred = yaml.load(open(\"ghconfig\"), Loader=yaml.BaseLoader)\n",
    "            url = f'{cred[\"token\"]}@{cred[\"repo\"].replace(\"https://\",\"\")}'\n",
    "            if cmd == \"get\":\n",
    "                pass\n",
    "            elif cmd == \"push\":\n",
    "                os.system(f\"git push {url} {opts}\")\n",
    "            elif cmd == \"pull\":\n",
    "                os.system(f\"git pull {url} {opts}\")\n",
    "            elif cmd == \"loc\":\n",
    "                print(cred[\"repo\"])\n",
    "            elif cmd == \"save\":\n",
    "                if not opts:\n",
    "                    opts = \"update\"\n",
    "                os.system(f'git add -u && git commit -m \"{opts}\"')\n",
    "            else:\n",
    "                os.system(f\"git {cmd} {opts}\")"
   ]
  },
  {
   "cell_type": "code",
   "execution_count": 1,
   "id": "ec2e7eb7",
   "metadata": {},
   "outputs": [],
   "source": [
    "def load_ipython_extension(ipython):\n",
    "    ipython.register_magics(VControlMagics)\n",
    "%load_ext autoreload\n",
    "%autoreload 2\n",
    "%reload_ext sniptool"
   ]
  },
  {
   "cell_type": "code",
   "execution_count": 2,
   "id": "9b51117f",
   "metadata": {},
   "outputs": [
    {
     "name": "stdout",
     "output_type": "stream",
     "text": [
      "On branch master\n",
      "Your branch is ahead of 'origin/master' by 2 commits.\n",
      "  (use \"git push\" to publish your local commits)\n",
      "\n",
      "Changes not staged for commit:\n",
      "  (use \"git add <file>...\" to update what will be committed)\n",
      "  (use \"git restore <file>...\" to discard changes in working directory)\n",
      "\tmodified:   00_core.ipynb\n",
      "\tmodified:   03_ver.ipynb\n",
      "\tmodified:   last.txt\n",
      "\n",
      "no changes added to commit (use \"git add\" and/or \"git commit -a\")\n"
     ]
    }
   ],
   "source": [
    "%g"
   ]
  },
  {
   "cell_type": "code",
   "execution_count": null,
   "id": "0156e077",
   "metadata": {},
   "outputs": [],
   "source": []
  }
 ],
 "metadata": {
  "kernelspec": {
   "display_name": "Python 3 (ipykernel)",
   "language": "python",
   "name": "python3"
  },
  "language_info": {
   "codemirror_mode": {
    "name": "ipython",
    "version": 3
   },
   "file_extension": ".py",
   "mimetype": "text/x-python",
   "name": "python",
   "nbconvert_exporter": "python",
   "pygments_lexer": "ipython3",
   "version": "3.7.12"
  }
 },
 "nbformat": 4,
 "nbformat_minor": 5
}
