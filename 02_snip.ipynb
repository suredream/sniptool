{
 "cells": [
  {
   "cell_type": "code",
   "execution_count": 2,
   "id": "48468286",
   "metadata": {
    "hide_input": false
   },
   "outputs": [],
   "source": [
    "#hide\n",
    "#default_exp snip\n",
    "#default_cls_lvl 3\n",
    "from nbdev.showdoc import show_doc"
   ]
  },
  {
   "cell_type": "code",
   "execution_count": 4,
   "id": "3b812b5b",
   "metadata": {
    "hide_input": false
   },
   "outputs": [],
   "source": [
    "#export\n",
    "from nbdev.imports import *"
   ]
  },
  {
   "cell_type": "markdown",
   "id": "e9902b03",
   "metadata": {},
   "source": [
    "# Snippets Manager\n",
    "\n",
    "> How to manage snippets (json version)"
   ]
  },
  {
   "cell_type": "code",
   "execution_count": 5,
   "id": "6543e463",
   "metadata": {},
   "outputs": [
    {
     "data": {
      "text/markdown": [
       "<h3 id=\"Config\" class=\"doc_header\"><code>class</code> <code>Config</code><a href=\"https://github.com/fastai/fastcore/tree/master/fastcore/foundation.py#L250\" class=\"source_link\" style=\"float:right\">[source]</a></h3>\n",
       "\n",
       "> <code>Config</code>(**`cfg_path`**, **`cfg_name`**, **`create`**=*`None`*)\n",
       "\n",
       "Reading and writing `ConfigParser` ini files"
      ],
      "text/plain": [
       "<IPython.core.display.Markdown object>"
      ]
     },
     "metadata": {},
     "output_type": "display_data"
    }
   ],
   "source": [
    "show_doc(Config, title_level=3)"
   ]
  },
  {
   "cell_type": "code",
   "execution_count": null,
   "id": "dea27a79",
   "metadata": {},
   "outputs": [],
   "source": [
    "# exporti\n",
    "from glob import glob\n",
    "import os\n",
    "import time\n",
    "import datetime\n",
    "import pandas as pd\n",
    "from io import StringIO\n",
    "from IPython.core.magic import Magics, magics_class, line_magic, cell_magic\n",
    "from pygments import highlight\n",
    "from pygments.lexers import PythonLexer\n",
    "from pygments.formatters import HtmlFormatter\n",
    "from IPython.core.display import HTML, display\n",
    "\n",
    "from sniptool.core import getmtime_ms, get_change_file\n",
    "\n",
    "def _snippet_parser(path):\n",
    "    sys.stdout.write(f\"updating snippets from {path}\\n\")\n",
    "    sys.stdout.flush()\n",
    "    notebook = json.load(open(path))\n",
    "\n",
    "    for cell in notebook[\"cells\"]:\n",
    "        if not cell[\"source\"]:\n",
    "            continue\n",
    "        head = cell[\"source\"][0]\n",
    "        if head.startswith(\"# @\"):\n",
    "            desc, *tags = tuple(head.lstrip(\"# @\").split(\"#\"))\n",
    "            sys.stdout.write(f\"snippets: {desc}\\n\")\n",
    "            sys.stdout.flush()\n",
    "            tags = \";\".join(tags) if tags else \"\"\n",
    "            source = \"\".join(cell[\"source\"][1:])\n",
    "            url = \"\"\n",
    "            yield (\n",
    "                dict(\n",
    "                    tags=tags,\n",
    "                    desc=desc,\n",
    "                    source=source,\n",
    "                    url=url,\n",
    "                )\n",
    "            )\n",
    "# def _get_snippets_file_list(dirs):\n",
    "#     include = [d for d in dirs if not d.startswith(\"!\")]\n",
    "#     exclude = [d[1:] for d in dirs if d.startswith(\"!\")]\n",
    "#     nb_list, links = _get_file_list(include, exclude)\n",
    "#     mtime = list(map(os.path.getmtime, nb_list))\n",
    "#     return pd.DataFrame(zip(nb_list, mtime, links), columns=[\"path\", \"mtime\", \"url\"])\n",
    "\n",
    "def _get_file_list(targets, exclude=[\"__pycache__\", \".ipynb_checkpoints\"]):\n",
    "    \"\"\" \"\n",
    "    This function recursively prints all contents of a pathlib.Path object\n",
    "    \"\"\"\n",
    "    import configparser\n",
    "\n",
    "    nb_list = [(None, None)]\n",
    "    for target in targets:\n",
    "        target = Path(target)\n",
    "        cfg1, cfg2 = target / \"ghconfig\", target / \".git/config\"\n",
    "        if cfg1.is_file():  # has ghconfig\n",
    "            cfg = yaml.load(open(str(cfg1)), Loader=yaml.BaseLoader)\n",
    "            root = cfg[\"repo\"].rstrip(\".git\") + \"/\" + target.name\n",
    "        elif cfg2.is_file():\n",
    "            config = configparser.ConfigParser()\n",
    "            config.read(str(cfg2))\n",
    "            root = config['remote \"origin\"'][\"url\"].rstrip(\".git\") + \"/\" + target.name\n",
    "        else:\n",
    "            root = None\n",
    "        for e in exclude:\n",
    "            if target.name.find(e) != -1:\n",
    "                return list(map(list, zip(*nb_list)))\n",
    "        for file in target.iterdir():\n",
    "            if file.is_dir():\n",
    "                if \".\" in file.name:\n",
    "                    continue\n",
    "                nb_list += _get_file_list([file.absolute().as_posix()], exclude=exclude)\n",
    "            elif file.name.endswith(\".ipynb\"):\n",
    "                nb_list.append((file.absolute().as_posix(), root))\n",
    "    # remove invalid lines\n",
    "    nb_list = list(filter(lambda x: x[1], nb_list))\n",
    "    return list(map(list, zip(*nb_list)))\n",
    "\n",
    "def _disp(snippets, short=False):\n",
    "    display(\n",
    "        HTML(\n",
    "            \"\"\"\n",
    "    <style>\n",
    "    {pygments_css}\n",
    "    </style>\n",
    "    \"\"\".format(\n",
    "                pygments_css=HtmlFormatter().get_style_defs(\".highlight\")\n",
    "            )\n",
    "        )\n",
    "    )\n",
    "\n",
    "    for _, row in snippets.iterrows():\n",
    "        if short:\n",
    "            content = row[\"desc\"]\n",
    "        else:\n",
    "            content = row[\"desc\"] + \"\\n\" + row[\"source\"][:80]\n",
    "        display(\n",
    "            HTML(data=highlight(f\"({_})\" + content, PythonLexer(), HtmlFormatter()))\n",
    "        )\n",
    "        \n",
    "# test"
   ]
  },
  {
   "cell_type": "code",
   "execution_count": 47,
   "id": "8adbcf07",
   "metadata": {},
   "outputs": [
    {
     "name": "stdout",
     "output_type": "stream",
     "text": [
      "02_snip.ipynb\n"
     ]
    }
   ],
   "source": [
    "# exporti\n",
    "from pathlib import Path\n",
    "import yaml\n",
    "import datetime\n",
    "from tempfile import NamedTemporaryFile\n",
    "\n",
    "def _get_repo_url(target):\n",
    "    \"# TODO: link to github url\"\n",
    "    import configparser\n",
    "    cfg1, cfg2 = target / \"ghconfig\", target / \".git/config\"\n",
    "    if cfg1.is_file():  # has ghconfig\n",
    "        cfg = yaml.load(open(str(cfg1)), Loader=yaml.BaseLoader)\n",
    "        repo = cfg[\"repo\"].rstrip(\".git\") + \"/\" + target.name\n",
    "    elif cfg2.is_file():\n",
    "        config = configparser.ConfigParser()\n",
    "        config.read(str(cfg2))\n",
    "        repo = config['remote \"origin\"'][\"url\"].rstrip(\".git\") + \"/\" + target.name\n",
    "    else:\n",
    "        repo = None\n",
    "    return repo\n",
    "    \n",
    "def _create_ipynb_list(dirname, root, ext='.ipynb'):\n",
    "    repo = _get_repo_url(root)\n",
    "    for target in dirname.iterdir():\n",
    "        if target.name.endswith(ext):\n",
    "            mtime = os.path.getmtime(target.name)\n",
    "            stamp = datetime.datetime.fromtimestamp(mtime, tz=datetime.timezone.utc)\n",
    "            stamp = int(round(stamp.timestamp()))\n",
    "#             yield repo + 'blob/master/' + str(target), stamp\n",
    "            yield str(target), stamp\n",
    "                \n",
    "def _create_dir_list(search_dirs, exclude=[\"__pycache__\", \".ipynb_checkpoints\"]):\n",
    "    for target in search_dirs:\n",
    "        yield Path(target), Path(target)\n",
    "        for d in Path(target).iterdir():\n",
    "            if d.is_dir():\n",
    "                for e in exclude:\n",
    "                    if d.name.find(e) != -1:\n",
    "                        continue\n",
    "                if \".\" in d.name: continue\n",
    "                yield d, Path(target)\n",
    "\n",
    "def _snapshot_taken():\n",
    "    f = NamedTemporaryFile(mode=\"w\", suffix=\".txt\", delete=False)\n",
    "    data = []\n",
    "    for dirname, root in _create_dir_list('.'):\n",
    "        for url, stamp in _create_ipynb_list(dirname, root):\n",
    "            data.append((url, stamp))\n",
    "    (pd.DataFrame(data, columns =['url', 'stamp'])\n",
    "        .sort_values(by='url')\n",
    "        .to_csv(f, sep='|', index=False, header=False))\n",
    "    return f.name\n",
    "    \n",
    "def _detech_changed_files(last='last_snip.txt'):\n",
    "    if not os.path.isfile(last):\n",
    "        os.system(f'touch {last}')\n",
    "    this = _snapshot_taken()\n",
    "#     print(f'diff -y --suppress-common-lines {last} {this}')\n",
    "    diff_ret = os.popen(f'diff -y --suppress-common-lines {last} {this}').read()\n",
    "    for line in diff_ret.splitlines():\n",
    "        file = line.split('|')[0].split()[-1]\n",
    "        yield file\n",
    "    os.rename(this, last)"
   ]
  },
  {
   "cell_type": "code",
   "execution_count": 44,
   "id": "56a77e00",
   "metadata": {},
   "outputs": [
    {
     "name": "stdout",
     "output_type": "stream",
     "text": [
      "https://github.com/suredream/sniptool/blob/master/00_core.ipynb|1649603769\n",
      "https://github.com/suredream/sniptool/blob/master/01_viz.ipynb|1649579529\n",
      "https://github.com/suredream/sniptool/blob/master/02_snip.ipynb|1649609400\n",
      "https://github.com/suredream/sniptool/blob/master/03_ver.ipynb|1649578070\n",
      "https://github.com/suredream/sniptool/blob/master/04_misc.ipynb|1649604042\n",
      "https://github.com/suredream/sniptool/blob/master/docs/index.ipynb|1649566371\n",
      "https://github.com/suredream/sniptool/blob/master/index.ipynb|1649566371\n"
     ]
    }
   ],
   "source": [
    "for path in _detech_changed_files():\n",
    "    print(path)"
   ]
  },
  {
   "cell_type": "code",
   "execution_count": 4,
   "id": "9f9a919d",
   "metadata": {},
   "outputs": [],
   "source": [
    "# exporti\n",
    "@magics_class\n",
    "class SnippetsMagics(Magics):\n",
    "    \"\"\"snip magic for snippets management.\n",
    "    Provides the %snip magic.\n",
    "    \"\"\"\n",
    "    def __init__(self, shell):\n",
    "        super(SnippetsMagics, self).__init__(shell=shell)\n",
    "        app_dir = os.path.dirname(os.path.abspath(__file__))\n",
    "        app_dir = os.path.dirname(app_dir)\n",
    "        self.jsonfile = f'{app_dir}/snip.json'\n",
    "        self.snapshot = f'{app_dir}/last_snip.txt'\n",
    "        try:\n",
    "            self.df = pd.read_json(self.jsonfile)\n",
    "        except ValueError:\n",
    "            self.df = pd.DataFrame()\n",
    "\n",
    "    @line_magic\n",
    "    def sn(self, parameter_s=\"\"):\n",
    "        \"\"\"snippets management\n",
    "\n",
    "        Usage:\n",
    "        * ``%snip``          - total numbers of all snippets and notebooks\n",
    "        * ``%snip bar``      - search in the db\n",
    "        * ``%snip -r``       - reset indexing\n",
    "        * ``%snip -u``       - update db\n",
    "        * ``%snip <key >-s``       - short output\n",
    "\n",
    "        New search directories can be inserted into config.yaml['search_dirs']\n",
    "        \"\"\"\n",
    "        opts, argsl = self.parse_options(parameter_s, \"drust\", mode=\"string\")\n",
    "        args = argsl.split()\n",
    "        if \"u\" in opts: # update\n",
    "            if \"r\" in opts:\n",
    "                if os.path.isfile(self.snapshot):\n",
    "                    os.remove(self.snapshot)\n",
    "            nestedList = map(_snippet_parser, list(_detech_changed_files(self.snapshot)))\n",
    "            ret_df = pd.DataFrame([item for sublist in nestedList for item in sublist])\n",
    "            if self.df.empty:\n",
    "                self.df = ret_df\n",
    "            else:\n",
    "#                 self.df = self.df.merge(ret_df, on='desc', how='right')\n",
    "                self.df = pd.concat([self.df, ret_df], axis=0, join='outer')\n",
    "            self.df.to_json(self.jsonfile, orient='records')\n",
    "        elif \"d\" in opts:  # display first\n",
    "            self.df.head().pipe(_disp, short=\"s\" in opts)\n",
    "        elif not args: # info\n",
    "            try:\n",
    "                n_ipynb = os.popen(f'wc -l {self.snapshot}').read().split()[0]\n",
    "            except:\n",
    "                n_ipynb = 0\n",
    "            print(\n",
    "                \"{} snippets, {} notebooks in SnippetDB\".format(\n",
    "                    self.df.shape[0], n_ipynb\n",
    "                )\n",
    "            )\n",
    "        elif args[-1].isdigit():  # load snippets\n",
    "            pos, q = int(args[-1]), \" \".join(args[:-1])\n",
    "            cell = (\n",
    "                self.df.query(f\"desc.str.contains('{q}')\", engine=\"python\")\n",
    "                .pipe(lambda _df: _df.iloc[pos][\"source\"]))\n",
    "            self.shell.set_next_input(cell, replace=False)\n",
    "        else:\n",
    "            q = \" \".join(args)\n",
    "            (\n",
    "                self.df.query(f\"desc.str.contains('{q}')\", engine=\"python\")\n",
    "                .reset_index()\n",
    "                .pipe(_disp, short=\"s\" in opts)\n",
    "            )"
   ]
  },
  {
   "cell_type": "code",
   "execution_count": 61,
   "id": "d80f5d9f",
   "metadata": {},
   "outputs": [
    {
     "name": "stdout",
     "output_type": "stream",
     "text": [
      "The autoreload extension is already loaded. To reload it, use:\n",
      "  %reload_ext autoreload\n"
     ]
    }
   ],
   "source": [
    "%load_ext autoreload\n",
    "%autoreload 2"
   ]
  },
  {
   "cell_type": "code",
   "execution_count": 65,
   "id": "e4c1bd8a",
   "metadata": {},
   "outputs": [],
   "source": [
    "%reload_ext sniptool"
   ]
  }
 ],
 "metadata": {
  "kernelspec": {
   "display_name": "Python 3 (ipykernel)",
   "language": "python",
   "name": "python3"
  },
  "language_info": {
   "codemirror_mode": {
    "name": "ipython",
    "version": 3
   },
   "file_extension": ".py",
   "mimetype": "text/x-python",
   "name": "python",
   "nbconvert_exporter": "python",
   "pygments_lexer": "ipython3",
   "version": "3.7.12"
  }
 },
 "nbformat": 4,
 "nbformat_minor": 5
}
