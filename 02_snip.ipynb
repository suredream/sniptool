{
 "cells": [
  {
   "cell_type": "code",
   "execution_count": 2,
   "id": "56159855",
   "metadata": {
    "hide_input": false
   },
   "outputs": [],
   "source": [
    "#hide\n",
    "#default_exp snip\n",
    "#default_cls_lvl 3\n",
    "from nbdev.showdoc import show_doc"
   ]
  },
  {
   "cell_type": "code",
   "execution_count": 4,
   "id": "f248f9fb",
   "metadata": {
    "hide_input": false
   },
   "outputs": [],
   "source": [
    "#export\n",
    "from nbdev.imports import *"
   ]
  },
  {
   "cell_type": "markdown",
   "id": "401e5c95",
   "metadata": {},
   "source": [
    "# Snippets Manager\n",
    "\n",
    "> How to manage snippets (json version)"
   ]
  },
  {
   "cell_type": "code",
   "execution_count": 5,
   "id": "d4167ae2",
   "metadata": {},
   "outputs": [
    {
     "data": {
      "text/markdown": [
       "<h3 id=\"Config\" class=\"doc_header\"><code>class</code> <code>Config</code><a href=\"https://github.com/fastai/fastcore/tree/master/fastcore/foundation.py#L250\" class=\"source_link\" style=\"float:right\">[source]</a></h3>\n",
       "\n",
       "> <code>Config</code>(**`cfg_path`**, **`cfg_name`**, **`create`**=*`None`*)\n",
       "\n",
       "Reading and writing `ConfigParser` ini files"
      ],
      "text/plain": [
       "<IPython.core.display.Markdown object>"
      ]
     },
     "metadata": {},
     "output_type": "display_data"
    }
   ],
   "source": [
    "show_doc(Config, title_level=3)"
   ]
  },
  {
   "cell_type": "code",
   "execution_count": 1,
   "id": "ee2a5138",
   "metadata": {},
   "outputs": [],
   "source": [
    "# exporti\n",
    "from glob import glob\n",
    "import os\n",
    "import time\n",
    "import datetime\n",
    "import pandas as pd\n",
    "from io import StringIO\n",
    "from IPython.core.magic import Magics, magics_class, line_magic, cell_magic\n",
    "from pygments import highlight\n",
    "from pygments.lexers import PythonLexer\n",
    "from pygments.formatters import HtmlFormatter\n",
    "from IPython.core.display import HTML, display\n",
    "\n",
    "def _getmtime_ms(path):\n",
    "    mtime = os.path.getmtime(path)\n",
    "    stamp = datetime.datetime.fromtimestamp(mtime, tz=datetime.timezone.utc)\n",
    "    return int(round(stamp.timestamp()))\n",
    "\n",
    "\n",
    "def _snippet_parser(path):\n",
    "    sys.stdout.write(f\"updating snippets from {path}\\n\")\n",
    "    sys.stdout.flush()\n",
    "    notebook = json.load(open(path))\n",
    "\n",
    "    for cell in notebook[\"cells\"]:\n",
    "        if not cell[\"source\"]:\n",
    "            continue\n",
    "        head = cell[\"source\"][0]\n",
    "        if head.startswith(\"# @\"):\n",
    "            desc, *tags = tuple(head.lstrip(\"# @\").split(\"#\"))\n",
    "            sys.stdout.write(f\"snippets: {desc}\\n\")\n",
    "            sys.stdout.flush()\n",
    "            tags = \";\".join(tags) if tags else \"\"\n",
    "            source = \"\".join(cell[\"source\"][1:])\n",
    "            url = \"\"\n",
    "            yield (\n",
    "                dict(\n",
    "                    tags=tags,\n",
    "                    desc=desc,\n",
    "                    source=source,\n",
    "                    url=url,\n",
    "                )\n",
    "            )\n",
    "\n",
    "def _get_file_list(targets, exclude=[\"__pycache__\", \".ipynb_checkpoints\"]):\n",
    "    \"\"\" \"\n",
    "    This function recursively prints all contents of a pathlib.Path object\n",
    "    \"\"\"\n",
    "    import configparser\n",
    "\n",
    "    nb_list = [(None, None)]\n",
    "    for target in targets:\n",
    "        target = Path(target)\n",
    "        cfg1, cfg2 = target / \"ghconfig\", target / \".git/config\"\n",
    "        if cfg1.is_file():  # has ghconfig\n",
    "            cfg = yaml.load(open(str(cfg1)), Loader=yaml.BaseLoader)\n",
    "            root = cfg[\"repo\"].rstrip(\".git\") + \"/\" + target.name\n",
    "        elif cfg2.is_file():\n",
    "            config = configparser.ConfigParser()\n",
    "            config.read(str(cfg2))\n",
    "            root = config['remote \"origin\"'][\"url\"].rstrip(\".git\") + \"/\" + target.name\n",
    "        else:\n",
    "            root = None\n",
    "        for e in exclude:\n",
    "            if target.name.find(e) != -1:\n",
    "                return list(map(list, zip(*nb_list)))\n",
    "        for file in target.iterdir():\n",
    "            if file.is_dir():\n",
    "                if \".\" in file.name:\n",
    "                    continue\n",
    "                nb_list += _get_file_list([file.absolute().as_posix()], exclude=exclude)\n",
    "            elif file.name.endswith(\".ipynb\"):\n",
    "                nb_list.append((file.absolute().as_posix(), root))\n",
    "    # remove invalid lines\n",
    "    nb_list = list(filter(lambda x: x[1], nb_list))\n",
    "    return list(map(list, zip(*nb_list)))\n",
    "\n",
    "def _get_snippets_file_list(dirs):\n",
    "    include = [d for d in dirs if not d.startswith(\"!\")]\n",
    "    exclude = [d[1:] for d in dirs if d.startswith(\"!\")]\n",
    "    nb_list, links = _get_file_list(include, exclude)\n",
    "    mtime = list(map(os.path.getmtime, nb_list))\n",
    "    return pd.DataFrame(zip(nb_list, mtime, links), columns=[\"path\", \"mtime\", \"url\"])\n",
    "\n",
    "\n",
    "def _disp(snippets, short=False):\n",
    "    display(\n",
    "        HTML(\n",
    "            \"\"\"\n",
    "    <style>\n",
    "    {pygments_css}\n",
    "    </style>\n",
    "    \"\"\".format(\n",
    "                pygments_css=HtmlFormatter().get_style_defs(\".highlight\")\n",
    "            )\n",
    "        )\n",
    "    )\n",
    "\n",
    "    for _, row in snippets.iterrows():\n",
    "        if short:\n",
    "            content = row[\"desc\"]\n",
    "        else:\n",
    "            content = row[\"desc\"] + \"\\n\" + row[\"source\"][:80]\n",
    "        display(\n",
    "            HTML(data=highlight(f\"({_})\" + content, PythonLexer(), HtmlFormatter()))\n",
    "        )\n",
    "\n",
    "def _get_change_file(last, this):\n",
    "    if not os.path.isfile(last):\n",
    "        os.system(f'touch {last}')\n",
    "    nb_list = glob('*.ipynb')\n",
    "    mtime = list(map(_getmtime_ms, nb_list))\n",
    "    df = (pd.DataFrame(zip(nb_list, mtime), columns=[\"path\", \"mtime\"])\n",
    "          .sort_values(by='path')\n",
    "          .to_csv(this, sep='|', index=False, header=False))\n",
    "#     print(f'diff -y --suppress-common-lines {last} {this}')\n",
    "    diff_ret = os.popen(f'diff -y --suppress-common-lines {last} {this}').read()\n",
    "    for line in diff_ret.splitlines():\n",
    "        file = line.split('|')[0].split()[-1]\n",
    "        yield file\n",
    "    os.rename(this, last)"
   ]
  },
  {
   "cell_type": "code",
   "execution_count": 4,
   "id": "563b7a72",
   "metadata": {},
   "outputs": [],
   "source": [
    "# exporti\n",
    "@magics_class\n",
    "class SnippetsMagics(Magics):\n",
    "    \"\"\"snip magic for snippets management.\n",
    "    Provides the %snip magic.\n",
    "    \"\"\"\n",
    "    def __init__(self, shell):\n",
    "        super(SnippetsMagics, self).__init__(shell=shell)\n",
    "        try:\n",
    "            self.df = pd.read_json('snip.json')\n",
    "        except ValueError:\n",
    "            self.df = pd.DataFrame()\n",
    "        \n",
    "    @line_magic\n",
    "    def sn(self, parameter_s=\"\", last=\"last.txt\", this='this.txt'):\n",
    "        \"\"\"snippets management\n",
    "\n",
    "        Usage:\n",
    "        * ``%snip``          - total numbers of all snippets and notebooks\n",
    "        * ``%snip bar``      - search in the db\n",
    "        * ``%snip -r``       - reset indexing\n",
    "        * ``%snip -u``       - update db\n",
    "        * ``%snip <key >-s``       - short output\n",
    "\n",
    "        New search directories can be inserted into config.yaml['search_dirs']\n",
    "        \"\"\"\n",
    "        opts, argsl = self.parse_options(parameter_s, \"rust\", mode=\"string\")\n",
    "        args = argsl.split()\n",
    "        if \"u\" in opts: # update\n",
    "            if \"r\" in opts:\n",
    "                os.remove(last)\n",
    "                os.remove('snip.json')\n",
    "                self.df = pd.DataFrame()\n",
    "            nestedList = map(_snippet_parser, list(_get_change_file(last, this)))\n",
    "            ret_df = pd.DataFrame([item for sublist in nestedList for item in sublist])\n",
    "            if self.df.empty:\n",
    "                self.df = ret_df\n",
    "            else:\n",
    "#                 self.df = self.df.merge(ret_df, on='desc', how='right')\n",
    "                self.df = pd.concat([self.df, ret_df], axis=0, join='outer')\n",
    "            self.df.to_json('snip.json', orient='records')\n",
    "        elif not args: # info\n",
    "            try:\n",
    "                n_ipynb = os.popen(f'wc -l {last}').read().split()[0]\n",
    "            except:\n",
    "                n_ipynb = 0\n",
    "            print(\n",
    "                \"{} snippets, {} notebooks in SnippetDB\".format(\n",
    "                    self.df.shape[0], n_ipynb\n",
    "                )\n",
    "            )\n",
    "        elif args[-1].isdigit():  # load snippets\n",
    "            pos, q = int(args[-1]), \" \".join(args[:-1])\n",
    "            cell = (\n",
    "                self.df.query(f\"desc.str.contains('{q}')\", engine=\"python\")\n",
    "                .pipe(lambda _df: _df.iloc[pos][\"source\"]))\n",
    "            self.shell.set_next_input(cell, replace=False)\n",
    "        else:\n",
    "            q = \" \".join(args)\n",
    "            (\n",
    "                self.df.query(f\"desc.str.contains('{q}')\", engine=\"python\")\n",
    "                .reset_index()\n",
    "                .pipe(_disp, short=\"s\" in opts)\n",
    "            )\n",
    "\n",
    "def load_ipython_extension(ipython):\n",
    "    ipython.register_magics(SnippetsMagics)"
   ]
  },
  {
   "cell_type": "code",
   "execution_count": null,
   "id": "29ac256d",
   "metadata": {},
   "outputs": [],
   "source": [
    "def load_ipython_extension(ipython):\n",
    "    ipython.register_magics(SnippetsMagics)"
   ]
  },
  {
   "cell_type": "code",
   "execution_count": 40,
   "id": "f6ae3706",
   "metadata": {},
   "outputs": [
    {
     "name": "stdout",
     "output_type": "stream",
     "text": [
      "The autoreload extension is already loaded. To reload it, use:\n",
      "  %reload_ext autoreload\n"
     ]
    }
   ],
   "source": [
    "%load_ext autoreload\n",
    "%autoreload 2"
   ]
  },
  {
   "cell_type": "code",
   "execution_count": 52,
   "id": "ad4475cc",
   "metadata": {},
   "outputs": [
    {
     "name": "stdout",
     "output_type": "stream",
     "text": [
      "       4 last.snapshot.txt\n"
     ]
    }
   ],
   "source": [
    "!wc -l last.snapshot.txt"
   ]
  },
  {
   "cell_type": "code",
   "execution_count": 53,
   "id": "f9dc1963",
   "metadata": {},
   "outputs": [
    {
     "data": {
      "text/plain": [
       "['4', 'last.snapshot.txt']"
      ]
     },
     "execution_count": 53,
     "metadata": {},
     "output_type": "execute_result"
    }
   ],
   "source": [
    "'       4 last.snapshot.txt'.split()"
   ]
  },
  {
   "cell_type": "code",
   "execution_count": 72,
   "id": "2dcea481",
   "metadata": {},
   "outputs": [],
   "source": [
    "%reload_ext sniptool"
   ]
  },
  {
   "cell_type": "code",
   "execution_count": 73,
   "id": "1a1bae0d",
   "metadata": {},
   "outputs": [
    {
     "name": "stdout",
     "output_type": "stream",
     "text": [
      "updating snippets from 00_core.ipynb\n",
      "snippets: check package version \n",
      "snippets: test\n",
      "\n",
      "updating snippets from 01_viz.ipynb\n",
      "snippets: seaborn set1  \n",
      "snippets: dataset alta \n",
      "updating snippets from 02_snip.ipynb\n",
      "updating snippets from index.ipynb\n"
     ]
    }
   ],
   "source": [
    "%sn -u -r"
   ]
  },
  {
   "cell_type": "code",
   "execution_count": 75,
   "id": "059a3cc5",
   "metadata": {},
   "outputs": [
    {
     "name": "stdout",
     "output_type": "stream",
     "text": [
      "4 snippets, 4 notebooks in SnippetDB\n"
     ]
    }
   ],
   "source": [
    "%sn"
   ]
  },
  {
   "cell_type": "code",
   "execution_count": 10,
   "id": "fffe4da7",
   "metadata": {},
   "outputs": [
    {
     "name": "stdout",
     "output_type": "stream",
     "text": [
      "Converted 01_viz.ipynb.\n",
      "Converted 02_snip.ipynb.\n"
     ]
    }
   ],
   "source": [
    "!nbdev_build_lib --fname 01_viz.ipynb\n",
    "!nbdev_build_lib --fname 02_snip.ipynb"
   ]
  },
  {
   "cell_type": "code",
   "execution_count": null,
   "id": "636c1100",
   "metadata": {},
   "outputs": [],
   "source": [
    "!nbdev_update_lib "
   ]
  }
 ],
 "metadata": {
  "kernelspec": {
   "display_name": "Python 3 (ipykernel)",
   "language": "python",
   "name": "python3"
  },
  "language_info": {
   "codemirror_mode": {
    "name": "ipython",
    "version": 3
   },
   "file_extension": ".py",
   "mimetype": "text/x-python",
   "name": "python",
   "nbconvert_exporter": "python",
   "pygments_lexer": "ipython3",
   "version": "3.7.12"
  }
 },
 "nbformat": 4,
 "nbformat_minor": 5
}
