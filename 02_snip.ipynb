{
 "cells": [
  {
   "cell_type": "code",
   "execution_count": 2,
   "id": "48468286",
   "metadata": {
    "hide_input": false
   },
   "outputs": [],
   "source": [
    "#hide\n",
    "#default_exp snip\n",
    "#default_cls_lvl 3\n",
    "from nbdev.showdoc import show_doc"
   ]
  },
  {
   "cell_type": "code",
   "execution_count": 4,
   "id": "3b812b5b",
   "metadata": {
    "hide_input": false
   },
   "outputs": [],
   "source": [
    "#export\n",
    "from nbdev.imports import *"
   ]
  },
  {
   "cell_type": "markdown",
   "id": "e9902b03",
   "metadata": {},
   "source": [
    "# Snippets Manager\n",
    "\n",
    "> How to manage snippets (json version)"
   ]
  },
  {
   "cell_type": "code",
   "execution_count": 5,
   "id": "6543e463",
   "metadata": {},
   "outputs": [
    {
     "data": {
      "text/markdown": [
       "<h3 id=\"Config\" class=\"doc_header\"><code>class</code> <code>Config</code><a href=\"https://github.com/fastai/fastcore/tree/master/fastcore/foundation.py#L250\" class=\"source_link\" style=\"float:right\">[source]</a></h3>\n",
       "\n",
       "> <code>Config</code>(**`cfg_path`**, **`cfg_name`**, **`create`**=*`None`*)\n",
       "\n",
       "Reading and writing `ConfigParser` ini files"
      ],
      "text/plain": [
       "<IPython.core.display.Markdown object>"
      ]
     },
     "metadata": {},
     "output_type": "display_data"
    }
   ],
   "source": [
    "show_doc(Config, title_level=3)"
   ]
  },
  {
   "cell_type": "code",
   "execution_count": null,
   "id": "dea27a79",
   "metadata": {},
   "outputs": [],
   "source": [
    "# exporti\n",
    "from glob import glob\n",
    "import os\n",
    "import time\n",
    "import datetime\n",
    "import pandas as pd\n",
    "from io import StringIO\n",
    "from IPython.core.magic import Magics, magics_class, line_magic, cell_magic\n",
    "from pygments import highlight\n",
    "from pygments.lexers import PythonLexer\n",
    "from pygments.formatters import HtmlFormatter\n",
    "from IPython.core.display import HTML, display\n",
    "\n",
    "from sniptool.core import getmtime_ms, get_change_file\n",
    "\n",
    "def _snippet_parser(path):\n",
    "    sys.stdout.write(f\"updating snippets from {path}\\n\")\n",
    "    sys.stdout.flush()\n",
    "    notebook = json.load(open(path))\n",
    "\n",
    "    for cell in notebook[\"cells\"]:\n",
    "        if not cell[\"source\"]:\n",
    "            continue\n",
    "        head = cell[\"source\"][0]\n",
    "        if head.startswith(\"# @\"):\n",
    "            desc, *tags = tuple(head.lstrip(\"# @\").split(\"#\"))\n",
    "            sys.stdout.write(f\"snippets: {desc}\\n\")\n",
    "            sys.stdout.flush()\n",
    "            tags = \";\".join(tags) if tags else \"\"\n",
    "            source = \"\".join(cell[\"source\"][1:])\n",
    "            url = \"\"\n",
    "            yield (\n",
    "                dict(\n",
    "                    tags=tags,\n",
    "                    desc=desc,\n",
    "                    source=source,\n",
    "                    url=url,\n",
    "                )\n",
    "            )\n",
    "# def _get_snippets_file_list(dirs):\n",
    "#     include = [d for d in dirs if not d.startswith(\"!\")]\n",
    "#     exclude = [d[1:] for d in dirs if d.startswith(\"!\")]\n",
    "#     nb_list, links = _get_file_list(include, exclude)\n",
    "#     mtime = list(map(os.path.getmtime, nb_list))\n",
    "#     return pd.DataFrame(zip(nb_list, mtime, links), columns=[\"path\", \"mtime\", \"url\"])\n",
    "\n",
    "def _get_file_list(targets, exclude=[\"__pycache__\", \".ipynb_checkpoints\"]):\n",
    "    \"\"\" \"\n",
    "    This function recursively prints all contents of a pathlib.Path object\n",
    "    \"\"\"\n",
    "    import configparser\n",
    "\n",
    "    nb_list = [(None, None)]\n",
    "    for target in targets:\n",
    "        target = Path(target)\n",
    "        cfg1, cfg2 = target / \"ghconfig\", target / \".git/config\"\n",
    "        if cfg1.is_file():  # has ghconfig\n",
    "            cfg = yaml.load(open(str(cfg1)), Loader=yaml.BaseLoader)\n",
    "            root = cfg[\"repo\"].rstrip(\".git\") + \"/\" + target.name\n",
    "        elif cfg2.is_file():\n",
    "            config = configparser.ConfigParser()\n",
    "            config.read(str(cfg2))\n",
    "            root = config['remote \"origin\"'][\"url\"].rstrip(\".git\") + \"/\" + target.name\n",
    "        else:\n",
    "            root = None\n",
    "        for e in exclude:\n",
    "            if target.name.find(e) != -1:\n",
    "                return list(map(list, zip(*nb_list)))\n",
    "        for file in target.iterdir():\n",
    "            if file.is_dir():\n",
    "                if \".\" in file.name:\n",
    "                    continue\n",
    "                nb_list += _get_file_list([file.absolute().as_posix()], exclude=exclude)\n",
    "            elif file.name.endswith(\".ipynb\"):\n",
    "                nb_list.append((file.absolute().as_posix(), root))\n",
    "    # remove invalid lines\n",
    "    nb_list = list(filter(lambda x: x[1], nb_list))\n",
    "    return list(map(list, zip(*nb_list)))\n",
    "\n",
    "def _disp(snippets, short=False):\n",
    "    display(\n",
    "        HTML(\n",
    "            \"\"\"\n",
    "    <style>\n",
    "    {pygments_css}\n",
    "    </style>\n",
    "    \"\"\".format(\n",
    "                pygments_css=HtmlFormatter().get_style_defs(\".highlight\")\n",
    "            )\n",
    "        )\n",
    "    )\n",
    "\n",
    "    for _, row in snippets.iterrows():\n",
    "        if short:\n",
    "            content = row[\"desc\"]\n",
    "        else:\n",
    "            content = row[\"desc\"] + \"\\n\" + row[\"source\"][:80]\n",
    "        display(\n",
    "            HTML(data=highlight(f\"({_})\" + content, PythonLexer(), HtmlFormatter()))\n",
    "        )\n",
    "        \n",
    "# test"
   ]
  },
  {
   "cell_type": "code",
   "execution_count": 47,
   "id": "8adbcf07",
   "metadata": {},
   "outputs": [
    {
     "name": "stdout",
     "output_type": "stream",
     "text": [
      "02_snip.ipynb\n"
     ]
    }
   ],
   "source": [
    "# exporti\n",
    "from pathlib import Path\n",
    "import yaml\n",
    "import datetime\n",
    "from tempfile import NamedTemporaryFile\n",
    "\n",
    "def _get_repo_url(target):\n",
    "    \"# TODO: link to github url\"\n",
    "    import configparser\n",
    "    cfg1, cfg2 = target / \"ghconfig\", target / \".git/config\"\n",
    "    if cfg1.is_file():  # has ghconfig\n",
    "        cfg = yaml.load(open(str(cfg1)), Loader=yaml.BaseLoader)\n",
    "        repo = cfg[\"repo\"].rstrip(\".git\") + \"/\" + target.name\n",
    "    elif cfg2.is_file():\n",
    "        config = configparser.ConfigParser()\n",
    "        config.read(str(cfg2))\n",
    "        repo = config['remote \"origin\"'][\"url\"].rstrip(\".git\") + \"/\" + target.name\n",
    "    else:\n",
    "        repo = None\n",
    "    return repo\n",
    "    \n",
    "def _create_ipynb_list(dirname, root, ext='.ipynb'):\n",
    "    repo = _get_repo_url(root)\n",
    "    for target in dirname.iterdir():\n",
    "        if target.name.endswith(ext):\n",
    "            mtime = os.path.getmtime(target.name)\n",
    "            stamp = datetime.datetime.fromtimestamp(mtime, tz=datetime.timezone.utc)\n",
    "            stamp = int(round(stamp.timestamp()))\n",
    "#             yield repo + 'blob/master/' + str(target), stamp\n",
    "            yield str(target), stamp\n",
    "                \n",
    "def _create_dir_list(search_dirs, exclude=[\"__pycache__\", \".ipynb_checkpoints\"]):\n",
    "    for target in search_dirs:\n",
    "        yield Path(target), Path(target)\n",
    "        for d in Path(target).iterdir():\n",
    "            if d.is_dir():\n",
    "                for e in exclude:\n",
    "                    if d.name.find(e) != -1:\n",
    "                        continue\n",
    "                if \".\" in d.name: continue\n",
    "                yield d, Path(target)\n",
    "\n",
    "def _snapshot_taken():\n",
    "    f = NamedTemporaryFile(mode=\"w\", suffix=\".txt\", delete=False)\n",
    "    data = []\n",
    "    for dirname, root in _create_dir_list('.'):\n",
    "        for url, stamp in _create_ipynb_list(dirname, root):\n",
    "            data.append((url, stamp))\n",
    "    (pd.DataFrame(data, columns =['url', 'stamp'])\n",
    "        .sort_values(by='url')\n",
    "        .to_csv(f, sep='|', index=False, header=False))\n",
    "    return f.name\n",
    "    \n",
    "def _detech_changed_files(last='last_snip.txt'):\n",
    "    if not os.path.isfile(last):\n",
    "        os.system(f'touch {last}')\n",
    "    this = _snapshot_taken()\n",
    "#     print(f'diff -y --suppress-common-lines {last} {this}')\n",
    "    diff_ret = os.popen(f'diff -y --suppress-common-lines {last} {this}').read()\n",
    "    for line in diff_ret.splitlines():\n",
    "        file = line.split('|')[0].split()[-1]\n",
    "        yield file\n",
    "    os.rename(this, last)"
   ]
  },
  {
   "cell_type": "code",
   "execution_count": 44,
   "id": "56a77e00",
   "metadata": {},
   "outputs": [
    {
     "name": "stdout",
     "output_type": "stream",
     "text": [
      "https://github.com/suredream/sniptool/blob/master/00_core.ipynb|1649603769\n",
      "https://github.com/suredream/sniptool/blob/master/01_viz.ipynb|1649579529\n",
      "https://github.com/suredream/sniptool/blob/master/02_snip.ipynb|1649609400\n",
      "https://github.com/suredream/sniptool/blob/master/03_ver.ipynb|1649578070\n",
      "https://github.com/suredream/sniptool/blob/master/04_misc.ipynb|1649604042\n",
      "https://github.com/suredream/sniptool/blob/master/docs/index.ipynb|1649566371\n",
      "https://github.com/suredream/sniptool/blob/master/index.ipynb|1649566371\n"
     ]
    }
   ],
   "source": [
    "for path in _detech_changed_files():\n",
    "    print(path)"
   ]
  },
  {
   "cell_type": "code",
   "execution_count": 4,
   "id": "9f9a919d",
   "metadata": {},
   "outputs": [],
   "source": [
    "# exporti\n",
    "@magics_class\n",
    "class SnippetsMagics(Magics):\n",
    "    \"\"\"snip magic for snippets management.\n",
    "    Provides the %snip magic.\n",
    "    \"\"\"\n",
    "    def __init__(self, shell):\n",
    "        super(SnippetsMagics, self).__init__(shell=shell)\n",
    "        app_dir = os.path.dirname(os.path.abspath(__file__))\n",
    "        app_dir = os.path.dirname(app_dir)\n",
    "        self.jsonfile = f'{app_dir}/snip.json'\n",
    "        self.snapshot = f'{app_dir}/last_snip.txt'\n",
    "        try:\n",
    "            self.df = pd.read_json(self.jsonfile)\n",
    "        except ValueError:\n",
    "            self.df = pd.DataFrame()\n",
    "\n",
    "    @line_magic\n",
    "    def sn(self, parameter_s=\"\"):\n",
    "        \"\"\"snippets management\n",
    "\n",
    "        Usage:\n",
    "        * ``%snip``          - total numbers of all snippets and notebooks\n",
    "        * ``%snip bar``      - search in the db\n",
    "        * ``%snip -r``       - reset indexing\n",
    "        * ``%snip -u``       - update db\n",
    "        * ``%snip <key >-s``       - short output\n",
    "\n",
    "        New search directories can be inserted into config.yaml['search_dirs']\n",
    "        \"\"\"\n",
    "        opts, argsl = self.parse_options(parameter_s, \"drust\", mode=\"string\")\n",
    "        args = argsl.split()\n",
    "        if \"u\" in opts: # update\n",
    "            if \"r\" in opts:\n",
    "                if os.path.isfile(self.snapshot):\n",
    "                    os.remove(self.snapshot)\n",
    "            nestedList = map(_snippet_parser, list(_detech_changed_files(self.snapshot)))\n",
    "            ret_df = pd.DataFrame([item for sublist in nestedList for item in sublist])\n",
    "            if self.df.empty:\n",
    "                self.df = ret_df\n",
    "            else:\n",
    "#                 self.df = self.df.merge(ret_df, on='desc', how='right')\n",
    "                self.df = pd.concat([self.df, ret_df], axis=0, join='outer')\n",
    "            self.df.to_json(self.jsonfile, orient='records')\n",
    "        elif \"d\" in opts:  # display first\n",
    "            self.df.head().pipe(_disp, short=\"s\" in opts)\n",
    "        elif not args: # info\n",
    "            try:\n",
    "                n_ipynb = os.popen(f'wc -l {self.snapshot}').read().split()[0]\n",
    "            except:\n",
    "                n_ipynb = 0\n",
    "            print(\n",
    "                \"{} snippets, {} notebooks in SnippetDB\".format(\n",
    "                    self.df.shape[0], n_ipynb\n",
    "                )\n",
    "            )\n",
    "        elif args[-1].isdigit():  # load snippets\n",
    "            pos, q = int(args[-1]), \" \".join(args[:-1])\n",
    "            cell = (\n",
    "                self.df.query(f\"desc.str.contains('{q}')\", engine=\"python\")\n",
    "                .pipe(lambda _df: _df.iloc[pos][\"source\"]))\n",
    "            self.shell.set_next_input(cell, replace=False)\n",
    "        else:\n",
    "            q = \" \".join(args)\n",
    "            (\n",
    "                self.df.query(f\"desc.str.contains('{q}')\", engine=\"python\")\n",
    "                .reset_index()\n",
    "                .pipe(_disp, short=\"s\" in opts)\n",
    "            )"
   ]
  },
  {
   "cell_type": "code",
   "execution_count": 72,
   "id": "2997007b",
   "metadata": {},
   "outputs": [
    {
     "name": "stdout",
     "output_type": "stream",
     "text": [
      "Converted 02_snip.ipynb.\n"
     ]
    }
   ],
   "source": [
    "# !nbdev_build_lib --fname 01_viz.ipynb\n",
    "!nbdev_build_lib --fname 02_snip.ipynb"
   ]
  },
  {
   "cell_type": "code",
   "execution_count": 61,
   "id": "d80f5d9f",
   "metadata": {},
   "outputs": [
    {
     "name": "stdout",
     "output_type": "stream",
     "text": [
      "The autoreload extension is already loaded. To reload it, use:\n",
      "  %reload_ext autoreload\n"
     ]
    }
   ],
   "source": [
    "%load_ext autoreload\n",
    "%autoreload 2"
   ]
  },
  {
   "cell_type": "code",
   "execution_count": 65,
   "id": "e4c1bd8a",
   "metadata": {},
   "outputs": [],
   "source": [
    "%reload_ext sniptool"
   ]
  },
  {
   "cell_type": "code",
   "execution_count": 56,
   "id": "af79bd4f",
   "metadata": {},
   "outputs": [
    {
     "name": "stdout",
     "output_type": "stream",
     "text": [
      "updating snippets from 02_snip.ipynb\n"
     ]
    }
   ],
   "source": [
    "%sn -u "
   ]
  },
  {
   "cell_type": "code",
   "execution_count": 68,
   "id": "5bb00272",
   "metadata": {},
   "outputs": [
    {
     "data": {
      "text/html": [
       "\n",
       "    <style>\n",
       "    pre { line-height: 125%; }\n",
       "td.linenos .normal { color: inherit; background-color: transparent; padding-left: 5px; padding-right: 5px; }\n",
       "span.linenos { color: inherit; background-color: transparent; padding-left: 5px; padding-right: 5px; }\n",
       "td.linenos .special { color: #000000; background-color: #ffffc0; padding-left: 5px; padding-right: 5px; }\n",
       "span.linenos.special { color: #000000; background-color: #ffffc0; padding-left: 5px; padding-right: 5px; }\n",
       ".highlight .hll { background-color: #ffffcc }\n",
       ".highlight { background: #f8f8f8; }\n",
       ".highlight .c { color: #3D7B7B; font-style: italic } /* Comment */\n",
       ".highlight .err { border: 1px solid #FF0000 } /* Error */\n",
       ".highlight .k { color: #008000; font-weight: bold } /* Keyword */\n",
       ".highlight .o { color: #666666 } /* Operator */\n",
       ".highlight .ch { color: #3D7B7B; font-style: italic } /* Comment.Hashbang */\n",
       ".highlight .cm { color: #3D7B7B; font-style: italic } /* Comment.Multiline */\n",
       ".highlight .cp { color: #9C6500 } /* Comment.Preproc */\n",
       ".highlight .cpf { color: #3D7B7B; font-style: italic } /* Comment.PreprocFile */\n",
       ".highlight .c1 { color: #3D7B7B; font-style: italic } /* Comment.Single */\n",
       ".highlight .cs { color: #3D7B7B; font-style: italic } /* Comment.Special */\n",
       ".highlight .gd { color: #A00000 } /* Generic.Deleted */\n",
       ".highlight .ge { font-style: italic } /* Generic.Emph */\n",
       ".highlight .gr { color: #E40000 } /* Generic.Error */\n",
       ".highlight .gh { color: #000080; font-weight: bold } /* Generic.Heading */\n",
       ".highlight .gi { color: #008400 } /* Generic.Inserted */\n",
       ".highlight .go { color: #717171 } /* Generic.Output */\n",
       ".highlight .gp { color: #000080; font-weight: bold } /* Generic.Prompt */\n",
       ".highlight .gs { font-weight: bold } /* Generic.Strong */\n",
       ".highlight .gu { color: #800080; font-weight: bold } /* Generic.Subheading */\n",
       ".highlight .gt { color: #0044DD } /* Generic.Traceback */\n",
       ".highlight .kc { color: #008000; font-weight: bold } /* Keyword.Constant */\n",
       ".highlight .kd { color: #008000; font-weight: bold } /* Keyword.Declaration */\n",
       ".highlight .kn { color: #008000; font-weight: bold } /* Keyword.Namespace */\n",
       ".highlight .kp { color: #008000 } /* Keyword.Pseudo */\n",
       ".highlight .kr { color: #008000; font-weight: bold } /* Keyword.Reserved */\n",
       ".highlight .kt { color: #B00040 } /* Keyword.Type */\n",
       ".highlight .m { color: #666666 } /* Literal.Number */\n",
       ".highlight .s { color: #BA2121 } /* Literal.String */\n",
       ".highlight .na { color: #687822 } /* Name.Attribute */\n",
       ".highlight .nb { color: #008000 } /* Name.Builtin */\n",
       ".highlight .nc { color: #0000FF; font-weight: bold } /* Name.Class */\n",
       ".highlight .no { color: #880000 } /* Name.Constant */\n",
       ".highlight .nd { color: #AA22FF } /* Name.Decorator */\n",
       ".highlight .ni { color: #717171; font-weight: bold } /* Name.Entity */\n",
       ".highlight .ne { color: #CB3F38; font-weight: bold } /* Name.Exception */\n",
       ".highlight .nf { color: #0000FF } /* Name.Function */\n",
       ".highlight .nl { color: #767600 } /* Name.Label */\n",
       ".highlight .nn { color: #0000FF; font-weight: bold } /* Name.Namespace */\n",
       ".highlight .nt { color: #008000; font-weight: bold } /* Name.Tag */\n",
       ".highlight .nv { color: #19177C } /* Name.Variable */\n",
       ".highlight .ow { color: #AA22FF; font-weight: bold } /* Operator.Word */\n",
       ".highlight .w { color: #bbbbbb } /* Text.Whitespace */\n",
       ".highlight .mb { color: #666666 } /* Literal.Number.Bin */\n",
       ".highlight .mf { color: #666666 } /* Literal.Number.Float */\n",
       ".highlight .mh { color: #666666 } /* Literal.Number.Hex */\n",
       ".highlight .mi { color: #666666 } /* Literal.Number.Integer */\n",
       ".highlight .mo { color: #666666 } /* Literal.Number.Oct */\n",
       ".highlight .sa { color: #BA2121 } /* Literal.String.Affix */\n",
       ".highlight .sb { color: #BA2121 } /* Literal.String.Backtick */\n",
       ".highlight .sc { color: #BA2121 } /* Literal.String.Char */\n",
       ".highlight .dl { color: #BA2121 } /* Literal.String.Delimiter */\n",
       ".highlight .sd { color: #BA2121; font-style: italic } /* Literal.String.Doc */\n",
       ".highlight .s2 { color: #BA2121 } /* Literal.String.Double */\n",
       ".highlight .se { color: #AA5D1F; font-weight: bold } /* Literal.String.Escape */\n",
       ".highlight .sh { color: #BA2121 } /* Literal.String.Heredoc */\n",
       ".highlight .si { color: #A45A77; font-weight: bold } /* Literal.String.Interpol */\n",
       ".highlight .sx { color: #008000 } /* Literal.String.Other */\n",
       ".highlight .sr { color: #A45A77 } /* Literal.String.Regex */\n",
       ".highlight .s1 { color: #BA2121 } /* Literal.String.Single */\n",
       ".highlight .ss { color: #19177C } /* Literal.String.Symbol */\n",
       ".highlight .bp { color: #008000 } /* Name.Builtin.Pseudo */\n",
       ".highlight .fm { color: #0000FF } /* Name.Function.Magic */\n",
       ".highlight .vc { color: #19177C } /* Name.Variable.Class */\n",
       ".highlight .vg { color: #19177C } /* Name.Variable.Global */\n",
       ".highlight .vi { color: #19177C } /* Name.Variable.Instance */\n",
       ".highlight .vm { color: #19177C } /* Name.Variable.Magic */\n",
       ".highlight .il { color: #666666 } /* Literal.Number.Integer.Long */\n",
       "    </style>\n",
       "    "
      ],
      "text/plain": [
       "<IPython.core.display.HTML object>"
      ]
     },
     "metadata": {},
     "output_type": "display_data"
    },
    {
     "data": {
      "text/html": [
       "<div class=\"highlight\"><pre><span></span><span class=\"p\">(</span><span class=\"mi\">0</span><span class=\"p\">)</span><span class=\"n\">check</span> <span class=\"n\">package</span> <span class=\"n\">version</span> \n",
       "<span class=\"err\">!</span><span class=\"n\">pip</span> <span class=\"nb\">list</span> <span class=\"o\">|</span> <span class=\"n\">egrep</span> <span class=\"s1\">&#39;pandas|matplotlib|numpy|seaborn|xarray|rasterio&#39;</span> <span class=\"o\">|</span> <span class=\"n\">sed</span> <span class=\"o\">-</span><span class=\"n\">e</span> <span class=\"s1\">&#39;s/</span>\n",
       "</pre></div>\n"
      ],
      "text/plain": [
       "<IPython.core.display.HTML object>"
      ]
     },
     "metadata": {},
     "output_type": "display_data"
    },
    {
     "data": {
      "text/html": [
       "<div class=\"highlight\"><pre><span></span><span class=\"p\">(</span><span class=\"mi\">1</span><span class=\"p\">)</span><span class=\"n\">test</span>\n",
       "\n",
       "<span class=\"o\">%</span><span class=\"n\">g</span> <span class=\"n\">add</span> <span class=\"o\">.</span>\n",
       "<span class=\"o\">%</span><span class=\"n\">g</span> <span class=\"n\">save</span>\n",
       "<span class=\"o\">%</span><span class=\"n\">g</span> <span class=\"n\">push</span>\n",
       "</pre></div>\n"
      ],
      "text/plain": [
       "<IPython.core.display.HTML object>"
      ]
     },
     "metadata": {},
     "output_type": "display_data"
    },
    {
     "data": {
      "text/html": [
       "<div class=\"highlight\"><pre><span></span><span class=\"p\">(</span><span class=\"mi\">2</span><span class=\"p\">)</span><span class=\"n\">seaborn</span> <span class=\"n\">set1</span>  \n",
       "<span class=\"kn\">import</span> <span class=\"nn\">seaborn</span> <span class=\"k\">as</span> <span class=\"nn\">sns</span>\n",
       "\n",
       "<span class=\"n\">sns</span><span class=\"o\">.</span><span class=\"n\">set</span><span class=\"p\">(</span>\n",
       "    <span class=\"n\">style</span><span class=\"o\">=</span><span class=\"s2\">&quot;white&quot;</span><span class=\"p\">,</span>\n",
       "    <span class=\"n\">palette</span><span class=\"o\">=</span><span class=\"s2\">&quot;muted&quot;</span><span class=\"p\">,</span>\n",
       "    <span class=\"n\">colo</span>\n",
       "</pre></div>\n"
      ],
      "text/plain": [
       "<IPython.core.display.HTML object>"
      ]
     },
     "metadata": {},
     "output_type": "display_data"
    },
    {
     "data": {
      "text/html": [
       "<div class=\"highlight\"><pre><span></span><span class=\"p\">(</span><span class=\"mi\">3</span><span class=\"p\">)</span><span class=\"n\">dataset</span> <span class=\"n\">alta</span> \n",
       "<span class=\"kn\">import</span> <span class=\"nn\">pandas</span> <span class=\"k\">as</span> <span class=\"nn\">pd</span>\n",
       "\n",
       "<span class=\"n\">url</span> <span class=\"o\">=</span> <span class=\"p\">(</span>\n",
       "    <span class=\"s2\">&quot;https://github.com/mattharrison/datasets/raw/m</span>\n",
       "</pre></div>\n"
      ],
      "text/plain": [
       "<IPython.core.display.HTML object>"
      ]
     },
     "metadata": {},
     "output_type": "display_data"
    }
   ],
   "source": [
    "%sn -d"
   ]
  },
  {
   "cell_type": "code",
   "execution_count": null,
   "id": "ff7da29f",
   "metadata": {},
   "outputs": [],
   "source": [
    "!nbdev_update_lib "
   ]
  },
  {
   "cell_type": "code",
   "execution_count": 70,
   "id": "6bdf3d3a",
   "metadata": {},
   "outputs": [
    {
     "name": "stdout",
     "output_type": "stream",
     "text": [
      "On branch master\n",
      "Your branch is ahead of 'origin/master' by 2 commits.\n",
      "  (use \"git push\" to publish your local commits)\n",
      "\n",
      "Changes not staged for commit:\n",
      "  (use \"git add <file>...\" to update what will be committed)\n",
      "  (use \"git restore <file>...\" to discard changes in working directory)\n",
      "\tmodified:   00_core.ipynb\n",
      "\tmodified:   02_snip.ipynb\n",
      "\tmodified:   03_ver.ipynb\n",
      "\tmodified:   docs/_data/sidebars/home_sidebar.yml\n",
      "\tmodified:   docs/core.html\n",
      "\tmodified:   docs/sidebar.json\n",
      "\tmodified:   sniptool/__init__.py\n",
      "\tmodified:   sniptool/_nbdev.py\n",
      "\tmodified:   sniptool/core.py\n",
      "\tmodified:   sniptool/snip.py\n",
      "\n",
      "Untracked files:\n",
      "  (use \"git add <file>...\" to include in what will be committed)\n",
      "\t04_misc.ipynb\n",
      "\tdocs/index.ipynb\n",
      "\tdocs/snip.html\n",
      "\tdocs/ver.html\n",
      "\tdocs/viz.html\n",
      "\tlast_snip.txt\n",
      "\tsniptool/last_snip.txt\n",
      "\tsniptool/misc.py\n",
      "\tsniptool/snip.json\n",
      "\n",
      "no changes added to commit (use \"git add\" and/or \"git commit -a\")\n"
     ]
    }
   ],
   "source": [
    "%g"
   ]
  },
  {
   "cell_type": "code",
   "execution_count": 73,
   "id": "076e487e",
   "metadata": {},
   "outputs": [
    {
     "name": "stdout",
     "output_type": "stream",
     "text": [
      "[master 532a942] update\n",
      " 20 files changed, 3248 insertions(+), 918 deletions(-)\n",
      " create mode 100644 04_misc.ipynb\n",
      " rewrite docs/core.html (67%)\n",
      " create mode 100644 docs/index.ipynb\n",
      " create mode 100644 docs/misc.html\n",
      " create mode 100644 docs/snip.html\n",
      " create mode 100644 docs/ver.html\n",
      " create mode 100644 docs/viz.html\n",
      " delete mode 100644 last.txt\n",
      " create mode 100644 last_snip.txt\n",
      " rewrite sniptool/core.py (62%)\n",
      " create mode 100644 sniptool/misc.py\n"
     ]
    },
    {
     "name": "stderr",
     "output_type": "stream",
     "text": [
      "To https://github.com/suredream/sniptool.git\n",
      "   f90a0b2..532a942  master -> master\n"
     ]
    }
   ],
   "source": [
    "%g add .\n",
    "%g save\n",
    "%g push"
   ]
  },
  {
   "cell_type": "code",
   "execution_count": null,
   "id": "f04b3089",
   "metadata": {},
   "outputs": [],
   "source": []
  }
 ],
 "metadata": {
  "kernelspec": {
   "display_name": "Python 3 (ipykernel)",
   "language": "python",
   "name": "python3"
  },
  "language_info": {
   "codemirror_mode": {
    "name": "ipython",
    "version": 3
   },
   "file_extension": ".py",
   "mimetype": "text/x-python",
   "name": "python",
   "nbconvert_exporter": "python",
   "pygments_lexer": "ipython3",
   "version": "3.7.12"
  }
 },
 "nbformat": 4,
 "nbformat_minor": 5
}
