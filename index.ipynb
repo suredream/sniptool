{
 "cells": [
  {
   "cell_type": "code",
   "execution_count": null,
   "metadata": {},
   "outputs": [],
   "source": [
    "#hide\n",
    "# from your_lib.core import *"
   ]
  },
  {
   "cell_type": "markdown",
   "metadata": {},
   "source": [
    "# sniptool\n",
    "\n",
    "> Summary description here."
   ]
  },
  {
   "cell_type": "markdown",
   "metadata": {},
   "source": [
    "This file will become your README and also the index of your documentation."
   ]
  },
  {
   "cell_type": "markdown",
   "metadata": {},
   "source": [
    "## Install"
   ]
  },
  {
   "cell_type": "markdown",
   "metadata": {},
   "source": [
    "`pip install -eq .`"
   ]
  },
  {
   "cell_type": "code",
   "execution_count": 1,
   "metadata": {},
   "outputs": [],
   "source": [
    "%reload_ext sniptool"
   ]
  },
  {
   "cell_type": "code",
   "execution_count": 2,
   "metadata": {},
   "outputs": [
    {
     "name": "stdout",
     "output_type": "stream",
     "text": [
      "abc                       fdopen                    killpg                    removedirs                statvfs_result            \n",
      "abort                     fork                      lchflags                  rename                    strerror                  \n",
      "access                    forkpty                   lchmod                    renames                   supports_bytes_environ    \n",
      "altsep                    fpathconf                 lchown                    replace                   supports_dir_fd           \n",
      "chdir                     fsdecode                  linesep                   rmdir                     supports_effective_ids    \n",
      "chflags                   fsencode                  link                      scandir                   supports_fd               \n",
      "chmod                     fspath                    listdir                   sched_get_priority_max    supports_follow_symlinks  \n",
      "chown                     fstat                     lockf                     sched_get_priority_min    symlink                   \n",
      "chroot                    fstatvfs                  lseek                     sched_yield               sync                      \n",
      "close                     fsync                     lstat                     sendfile                  sys                       \n",
      "closerange                ftruncate                 major                     sep                       sysconf                   \n",
      "confstr                   get_blocking              makedev                   set_blocking              sysconf_names             \n",
      "confstr_names             get_exec_path             makedirs                  set_inheritable           system                    \n",
      "cpu_count                 get_inheritable           minor                     setegid                   tcgetpgrp                 \n",
      "ctermid                   get_terminal_size         mkdir                     seteuid                   tcsetpgrp                 \n",
      "curdir                    getcwd                    mkfifo                    setgid                    terminal_size             \n",
      "defpath                   getcwdb                   mknod                     setgroups                 times                     \n",
      "device_encoding           getegid                   name                      setpgid                   times_result              \n",
      "devnull                   getenv                    nice                      setpgrp                   truncate                  \n",
      "dup                       getenvb                   open                      setpriority               ttyname                   \n",
      "dup2                      geteuid                   openpty                   setregid                  umask                     \n",
      "environ                   getgid                    pardir                    setreuid                  uname                     \n",
      "environb                  getgrouplist              path                      setsid                    uname_result              \n",
      "error                     getgroups                 pathconf                  setuid                    unlink                    \n",
      "execl                     getloadavg                pathconf_names            spawnl                    unsetenv                  \n",
      "execle                    getlogin                  pathsep                   spawnle                   urandom                   \n",
      "execlp                    getpgid                   pipe                      spawnlp                   utime                     \n",
      "execlpe                   getpgrp                   popen                     spawnlpe                  wait                      \n",
      "execv                     getpid                    pread                     spawnv                    wait3                     \n",
      "execve                    getppid                   putenv                    spawnve                   wait4                     \n",
      "execvp                    getpriority               pwrite                    spawnvp                   waitpid                   \n",
      "execvpe                   getsid                    read                      spawnvpe                  walk                      \n",
      "extsep                    getuid                    readlink                  st                        write                     \n",
      "fchdir                    initgroups                readv                     stat                      writev                    \n",
      "fchmod                    isatty                    register_at_fork          stat_result                                         \n",
      "fchown                    kill                      remove                    statvfs                                             \n"
     ]
    }
   ],
   "source": [
    "import os\n",
    "%d os"
   ]
  },
  {
   "cell_type": "markdown",
   "metadata": {},
   "source": [
    "## How to use"
   ]
  },
  {
   "cell_type": "markdown",
   "metadata": {},
   "source": [
    "Fill me in please! Don't forget code examples:"
   ]
  },
  {
   "cell_type": "code",
   "execution_count": null,
   "metadata": {},
   "outputs": [
    {
     "data": {
      "text/plain": [
       "2"
      ]
     },
     "execution_count": null,
     "metadata": {},
     "output_type": "execute_result"
    }
   ],
   "source": [
    "1+1"
   ]
  },
  {
   "cell_type": "markdown",
   "metadata": {},
   "source": [
    "# workflow\n",
    "\n",
    "- initialize nbdev repo; git clone\n",
    "- working code, hide and export\n",
    "- test cases\n",
    "- visuals\n",
    "- documentation"
   ]
  },
  {
   "cell_type": "markdown",
   "metadata": {},
   "source": [
    "# todo\n",
    "\n",
    "- init nbdev repo"
   ]
  }
 ],
 "metadata": {
  "kernelspec": {
   "display_name": "Python 3 (ipykernel)",
   "language": "python",
   "name": "python3"
  },
  "language_info": {
   "codemirror_mode": {
    "name": "ipython",
    "version": 3
   },
   "file_extension": ".py",
   "mimetype": "text/x-python",
   "name": "python",
   "nbconvert_exporter": "python",
   "pygments_lexer": "ipython3",
   "version": "3.7.12"
  }
 },
 "nbformat": 4,
 "nbformat_minor": 4
}
