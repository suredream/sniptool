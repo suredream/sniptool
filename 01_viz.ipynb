{
 "cells": [
  {
   "cell_type": "code",
   "execution_count": 2,
   "id": "368cdbcc",
   "metadata": {
    "hide_input": false
   },
   "outputs": [],
   "source": [
    "#hide\n",
    "#default_exp viz\n",
    "#default_cls_lvl 3\n",
    "from nbdev.showdoc import show_doc"
   ]
  },
  {
   "cell_type": "code",
   "execution_count": 4,
   "id": "dc0ee13b",
   "metadata": {
    "hide_input": false
   },
   "outputs": [],
   "source": [
    "#export\n",
    "from nbdev.imports import *\n",
    "# from fastcore.script import *\n",
    "# from fastcore.foundation import *\n",
    "# from keyword import iskeyword\n",
    "# import nbformat"
   ]
  },
  {
   "cell_type": "markdown",
   "id": "6cbc2157",
   "metadata": {},
   "source": [
    "# visualization flow\n",
    "\n",
    "> How to manage visual assets"
   ]
  },
  {
   "cell_type": "code",
   "execution_count": 5,
   "id": "75fdf29a",
   "metadata": {},
   "outputs": [
    {
     "data": {
      "text/markdown": [
       "<h3 id=\"Config\" class=\"doc_header\"><code>class</code> <code>Config</code><a href=\"https://github.com/fastai/fastcore/tree/master/fastcore/foundation.py#L250\" class=\"source_link\" style=\"float:right\">[source]</a></h3>\n",
       "\n",
       "> <code>Config</code>(**`cfg_path`**, **`cfg_name`**, **`create`**=*`None`*)\n",
       "\n",
       "Reading and writing `ConfigParser` ini files"
      ],
      "text/plain": [
       "<IPython.core.display.Markdown object>"
      ]
     },
     "metadata": {},
     "output_type": "display_data"
    }
   ],
   "source": [
    "show_doc(Config, title_level=3)"
   ]
  },
  {
   "cell_type": "code",
   "execution_count": 41,
   "id": "a644ac4a",
   "metadata": {},
   "outputs": [],
   "source": [
    "# @seaborn set1  #viz\n",
    "import seaborn as sns\n",
    "\n",
    "sns.set(\n",
    "    style=\"white\",\n",
    "    palette=\"muted\",\n",
    "    color_codes=True,\n",
    "    rc={\"figure.figsize\": (11.7, 8.27)},\n",
    ")"
   ]
  },
  {
   "cell_type": "code",
   "execution_count": 42,
   "id": "ce51674c",
   "metadata": {},
   "outputs": [
    {
     "data": {
      "text/plain": [
       "1980-01-01    2.0\n",
       "1980-01-02    3.0\n",
       "1980-01-03    1.0\n",
       "1980-01-04    0.0\n",
       "1980-01-05    0.0\n",
       "             ... \n",
       "2019-09-03    0.0\n",
       "2019-09-04    0.0\n",
       "2019-09-05    0.0\n",
       "2019-09-06    0.0\n",
       "2019-09-07    0.0\n",
       "Name: SNOW, Length: 14160, dtype: float64"
      ]
     },
     "execution_count": 42,
     "metadata": {},
     "output_type": "execute_result"
    }
   ],
   "source": [
    "# @dataset alta #dw\n",
    "import pandas as pd\n",
    "\n",
    "url = (\n",
    "    \"https://github.com/mattharrison/datasets/raw/master/\"\n",
    "    \"data/alta-noaa-1980-2019.csv\"\n",
    ")\n",
    "alta_df = pd.read_csv(url)\n",
    "dates = pd.to_datetime(alta_df.DATE)\n",
    "snow = alta_df.SNOW.rename(dates)\n",
    "snow"
   ]
  },
  {
   "cell_type": "code",
   "execution_count": 50,
   "id": "d4999d80",
   "metadata": {},
   "outputs": [
    {
     "data": {
      "text/plain": [
       "<AxesSubplot:ylabel='Frequency'>"
      ]
     },
     "execution_count": 50,
     "metadata": {},
     "output_type": "execute_result"
    },
    {
     "data": {
      "image/png": "[encoded data removed]",
      "text/plain": [
       "<Figure size 842.4x595.44 with 1 Axes>"
      ]
     },
     "metadata": {},
     "output_type": "display_data"
    }
   ],
   "source": [
    "# ! test1.png\n",
    "snow.plot.hist()"
   ]
  },
  {
   "cell_type": "code",
   "execution_count": 9,
   "id": "b65421dd",
   "metadata": {},
   "outputs": [],
   "source": [
    "# exporti\n",
    "from glob import glob\n",
    "import os\n",
    "import time\n",
    "import datetime\n",
    "import base64\n",
    "import pandas as pd\n",
    "from io import BytesIO, StringIO\n",
    "from PIL import Image\n",
    "from IPython.core.magic import Magics, magics_class, line_magic, cell_magic\n",
    "\n",
    "def _getmtime_ms(path):\n",
    "    mtime = os.path.getmtime(path)\n",
    "    stamp = datetime.datetime.fromtimestamp(mtime, tz=datetime.timezone.utc)\n",
    "    return int(round(stamp.timestamp()))\n",
    "\n",
    "def _get_change_file(last=\"last.snapshot.txt\", this='this.snapshot.txt'):\n",
    "    if not os.path.isfile(last):\n",
    "        os.system(f'touch {last}')\n",
    "    nb_list = glob('*.ipynb')\n",
    "    mtime = list(map(_getmtime_ms, nb_list))\n",
    "    df = (pd.DataFrame(zip(nb_list, mtime), columns=[\"path\", \"mtime\"])\n",
    "          .sort_values(by='path')\n",
    "          .to_csv(this, sep='|', index=False, header=False))\n",
    "#     print(f'diff -y --suppress-common-lines {last} {this}')\n",
    "    diff_ret = os.popen(f'diff -y --suppress-common-lines {last} {this}').read()\n",
    "    for line in diff_ret.splitlines():\n",
    "        file = line.split('|')[0].split()[-1]\n",
    "        yield file\n",
    "    os.rename(this, last)\n",
    "\n",
    "@magics_class\n",
    "class AssetMagics(Magics):\n",
    "    \"\"\"snip magic for snippets management.\n",
    "    Provides the %snip magic.\n",
    "    \"\"\"\n",
    "    @line_magic\n",
    "    def sa(self, line, folder='img'):\n",
    "        if not os.path.exists(folder):\n",
    "            os.mkdir(folder)\n",
    "        for ipynb in _get_change_file():\n",
    "            print(ipynb)\n",
    "            with open(ipynb) as fin:\n",
    "                notebook = json.load(fin)\n",
    "                for cell in notebook[\"cells\"]:\n",
    "                    if not cell[\"source\"]:\n",
    "                        continue\n",
    "                    head = cell[\"source\"][0]\n",
    "                    if head.startswith(\"# !\"):\n",
    "                        oname = folder + \"/\" + head.lstrip(\"# !\").strip()\n",
    "                        for output in cell[\"outputs\"]:\n",
    "                            try:\n",
    "                                img_png = output[\"data\"][\"image/png\"]\n",
    "                                im = Image.open(BytesIO(base64.b64decode(img_png)))\n",
    "                                im.save(oname, \"PNG\")\n",
    "                                print(f\"-- {oname} created.\")\n",
    "                                break\n",
    "                            except:\n",
    "                                pass\n",
    "\n",
    "def load_ipython_extension(ipython):\n",
    "    ipython.register_magics(AssetMagics)"
   ]
  },
  {
   "cell_type": "code",
   "execution_count": 10,
   "id": "2ef38fb3",
   "metadata": {},
   "outputs": [
    {
     "name": "stderr",
     "output_type": "stream",
     "text": [
      "UsageError: Line magic function `%sa` not found.\n"
     ]
    }
   ],
   "source": [
    "%sa"
   ]
  },
  {
   "cell_type": "code",
   "execution_count": 68,
   "id": "f160b5c2",
   "metadata": {},
   "outputs": [
    {
     "name": "stdout",
     "output_type": "stream",
     "text": [
      "Converted 00_core.ipynb.\n",
      "Converted 01_viz.ipynb.\n",
      "Converted index.ipynb.\n"
     ]
    }
   ],
   "source": [
    "!nbdev_build_lib"
   ]
  },
  {
   "cell_type": "code",
   "execution_count": null,
   "id": "d3d27290",
   "metadata": {},
   "outputs": [],
   "source": []
  }
 ],
 "metadata": {
  "kernelspec": {
   "display_name": "Python 3 (ipykernel)",
   "language": "python",
   "name": "python3"
  },
  "language_info": {
   "codemirror_mode": {
    "name": "ipython",
    "version": 3
   },
   "file_extension": ".py",
   "mimetype": "text/x-python",
   "name": "python",
   "nbconvert_exporter": "python",
   "pygments_lexer": "ipython3",
   "version": "3.7.12"
  }
 },
 "nbformat": 4,
 "nbformat_minor": 5
}
